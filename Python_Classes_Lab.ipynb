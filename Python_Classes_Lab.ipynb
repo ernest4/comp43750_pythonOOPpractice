{
 "cells": [
  {
   "cell_type": "markdown",
   "metadata": {},
   "source": [
    "# Exercise 1. Guest"
   ]
  },
  {
   "cell_type": "code",
   "execution_count": 100,
   "metadata": {},
   "outputs": [],
   "source": [
    "class Guest:\n",
    "    '''This a guest class'''\n",
    "    def __init__(self, name, hunger):\n",
    "        self.name = name\n",
    "        self.hunger = hunger\n",
    "        \n",
    "    def eat(self):\n",
    "        if self.hunger <= 0:\n",
    "            print(\"{} : I am full\".format(self.name))\n",
    "        else:\n",
    "            self.hunger -= 1\n",
    "        \n",
    "        return self.hunger\n",
    "    \n",
    "    def __repr__(self):\n",
    "        return \"<guest {}, hunger {}>\".format(self.name, self.hunger)"
   ]
  },
  {
   "cell_type": "code",
   "execution_count": 101,
   "metadata": {},
   "outputs": [],
   "source": [
    "guest1 = Guest(\"MrX\", 3)"
   ]
  },
  {
   "cell_type": "code",
   "execution_count": 107,
   "metadata": {},
   "outputs": [
    {
     "name": "stdout",
     "output_type": "stream",
     "text": [
      "MrX : I am full\n"
     ]
    },
    {
     "data": {
      "text/plain": [
       "0"
      ]
     },
     "execution_count": 107,
     "metadata": {},
     "output_type": "execute_result"
    }
   ],
   "source": [
    "guest1.eat()"
   ]
  },
  {
   "cell_type": "code",
   "execution_count": 103,
   "metadata": {},
   "outputs": [
    {
     "name": "stdout",
     "output_type": "stream",
     "text": [
      "<guest MrX, hunger 2>\n"
     ]
    }
   ],
   "source": [
    "print(guest1)"
   ]
  },
  {
   "cell_type": "markdown",
   "metadata": {},
   "source": [
    "## Testing class documentation"
   ]
  },
  {
   "cell_type": "code",
   "execution_count": 60,
   "metadata": {},
   "outputs": [
    {
     "name": "stdout",
     "output_type": "stream",
     "text": [
      "Help on function eat in module __main__:\n",
      "\n",
      "eat(self)\n",
      "\n"
     ]
    }
   ],
   "source": [
    "help(Guest.eat)"
   ]
  },
  {
   "cell_type": "markdown",
   "metadata": {},
   "source": [
    "# Exercise 2. Restaurant"
   ]
  },
  {
   "cell_type": "code",
   "execution_count": 118,
   "metadata": {},
   "outputs": [],
   "source": [
    "class Restaurant:\n",
    "    '''This a restaurant class'''\n",
    "    def __init__(self, size):\n",
    "        self.tables = ['None' for i in range(size)]\n",
    "    \n",
    "    def seat(self, guest):\n",
    "        if 'None' in self.tables: #If there is a free seat...\n",
    "            self.tables[self.tables.index('None')] = guest\n",
    "            print('Seating guest {} at table {}'.format(guest.name, self.tables.index(guest)))\n",
    "            return True\n",
    "        else:\n",
    "            print('No free table!')\n",
    "            return False\n",
    "        \n",
    "    def serve(self):\n",
    "        for guest in self.tables:\n",
    "            if guest != 'None':\n",
    "                if guest.hunger > 0:\n",
    "                    guest.eat()\n",
    "                    print('Serving guest {}'.format(guest.name))\n",
    "                else: #Guest hunger 0, remove guest\n",
    "                    self.tables[self.tables.index(guest)] = 'None'\n",
    "\n",
    "                return #Serve one guest per function call\n",
    "        print('No guest to serve')"
   ]
  },
  {
   "cell_type": "code",
   "execution_count": 119,
   "metadata": {},
   "outputs": [],
   "source": [
    "restaurant1 = Restaurant(3)"
   ]
  },
  {
   "cell_type": "code",
   "execution_count": 120,
   "metadata": {},
   "outputs": [
    {
     "data": {
      "text/plain": [
       "['None', 'None', 'None']"
      ]
     },
     "execution_count": 120,
     "metadata": {},
     "output_type": "execute_result"
    }
   ],
   "source": [
    "restaurant1.tables"
   ]
  },
  {
   "cell_type": "markdown",
   "metadata": {},
   "source": [
    "# Exercise 3. Test your classes"
   ]
  },
  {
   "cell_type": "code",
   "execution_count": 121,
   "metadata": {},
   "outputs": [
    {
     "name": "stdout",
     "output_type": "stream",
     "text": [
      "['None', 'None']\n",
      "Seating guest Mary at table 0\n",
      "Serving guest Mary\n",
      "[<guest Mary, hunger 2>, 'None']\n",
      "Seating guest John at table 1\n",
      "Serving guest Mary\n",
      "[<guest Mary, hunger 1>, <guest John, hunger 2>]\n",
      "No free table!\n",
      "Serving guest Mary\n",
      "[<guest Mary, hunger 0>, <guest John, hunger 2>]\n",
      "No free table!\n",
      "['None', <guest John, hunger 2>]\n",
      "Seating guest Alice at table 0\n",
      "Serving guest Alice\n",
      "<__main__.Restaurant object at 0x7f786c055b70>\n"
     ]
    }
   ],
   "source": [
    "g1 = Guest('Alice', 1)\n",
    "g2 = Guest('John', 2)\n",
    "g3 = Guest('Mary', 3)\n",
    "\n",
    "guests = [g1, g2, g3]\n",
    "\n",
    "r = Restaurant(2)\n",
    "\n",
    "while guests:\n",
    "    print(r.tables)\n",
    "    if r.seat(guests[-1]):\n",
    "        guests.pop()\n",
    "    r.serve()\n",
    "    \n",
    "print(r)"
   ]
  },
  {
   "cell_type": "code",
   "execution_count": null,
   "metadata": {},
   "outputs": [],
   "source": []
  }
 ],
 "metadata": {
  "kernelspec": {
   "display_name": "Python 3",
   "language": "python",
   "name": "python3"
  },
  "language_info": {
   "codemirror_mode": {
    "name": "ipython",
    "version": 3
   },
   "file_extension": ".py",
   "mimetype": "text/x-python",
   "name": "python",
   "nbconvert_exporter": "python",
   "pygments_lexer": "ipython3",
   "version": "3.6.4"
  }
 },
 "nbformat": 4,
 "nbformat_minor": 2
}
